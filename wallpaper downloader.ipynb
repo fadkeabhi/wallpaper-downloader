{
 "cells": [
  {
   "cell_type": "code",
   "execution_count": 1,
   "id": "b4e90816",
   "metadata": {},
   "outputs": [],
   "source": [
    "import requests\n",
    "from bs4 import BeautifulSoup"
   ]
  },
  {
   "cell_type": "code",
   "execution_count": 2,
   "id": "8366b463",
   "metadata": {},
   "outputs": [],
   "source": [
    "#https://www.wallpaperflare.com/\n",
    "def download(URL):\n",
    "\n",
    "#URL = \"https://www.wallpaperflare.com/woman-holding-umbrella-illustration-woman-holding-umbrella-oldboy-wallpaper-gi\"\n",
    "\n",
    "    if URL.rsplit('/', 1)[1] != 'download':\n",
    "        URL += '/download'\n",
    "    r = requests.get(URL)\n",
    "    soup = BeautifulSoup(r.content, 'html.parser')\n",
    "    img = soup.find('img', attrs = {\"id\":\"show_img\"}) \n",
    "    link = img[\"src\"]\n",
    "    r = requests.get(link)\n",
    "    fname = \"wallpaper/\" + link.rsplit('/', 1)[1]\n",
    "    with open(fname,'wb') as f:\n",
    "        f.write(r.content)"
   ]
  },
  {
   "cell_type": "code",
   "execution_count": 27,
   "id": "4cd94455",
   "metadata": {},
   "outputs": [],
   "source": [
    "min_height = 1080\n",
    "min_width = 1920\n",
    "\n",
    "keyword = \"anime dark\""
   ]
  },
  {
   "cell_type": "code",
   "execution_count": 28,
   "id": "27784857",
   "metadata": {},
   "outputs": [],
   "source": [
    "keyword = keyword.replace(' ', '+')"
   ]
  },
  {
   "cell_type": "code",
   "execution_count": 29,
   "id": "272d4971",
   "metadata": {},
   "outputs": [],
   "source": [
    "URL = \"https://www.wallpaperflare.com/search?wallpaper=\" + keyword + \"&width=\" + str(min_width) + \"&height=\" + str(min_height)"
   ]
  },
  {
   "cell_type": "code",
   "execution_count": 30,
   "id": "64b47fd0",
   "metadata": {},
   "outputs": [
    {
     "name": "stdout",
     "output_type": "stream",
     "text": [
      "https://www.wallpaperflare.com/search?wallpaper=anime+dark&width=1920&height=1080\n"
     ]
    }
   ],
   "source": [
    "print(URL)"
   ]
  },
  {
   "cell_type": "code",
   "execution_count": 31,
   "id": "dd8ab03f",
   "metadata": {},
   "outputs": [],
   "source": [
    "r = requests.get(URL)\n",
    "soup = BeautifulSoup(r.content, 'html.parser')\n"
   ]
  },
  {
   "cell_type": "code",
   "execution_count": 32,
   "id": "8f85aa9d",
   "metadata": {},
   "outputs": [],
   "source": [
    "ul = soup.find('ul', attrs = {\"id\":\"gallery\"}) "
   ]
  },
  {
   "cell_type": "code",
   "execution_count": 33,
   "id": "9ed436be",
   "metadata": {},
   "outputs": [
    {
     "name": "stdout",
     "output_type": "stream",
     "text": [
      "https://www.wallpaperflare.com/digital-digital-art-artwork-illustration-minimalism-simple-wallpaper-gjwxk\n",
      "https://www.wallpaperflare.com/digital-digital-art-artwork-illustration-drawing-digital-painting-wallpaper-gjrrx\n",
      "https://www.wallpaperflare.com/digital-digital-art-artwork-illustration-fantasy-art-sun-wallpaper-gjrwl\n",
      "https://www.wallpaperflare.com/digital-digital-art-artwork-illustration-ricodz-blue-purple-wallpaper-gjbgd\n",
      "https://www.wallpaperflare.com/fate-stay-night-anime-illustration-minimalism-texture-black-background-wallpaper-tvds\n",
      "https://www.wallpaperflare.com/1920x1080-px-dark-heath-ledger-joker-monochrome-animals-frogs-hd-art-wallpaper-bomxa\n",
      "https://www.wallpaperflare.com/uchiha-clan-logo-minimalism-naruto-anime-dark-uchiha-sasuke-wallpaper-ymobo\n",
      "https://www.wallpaperflare.com/batman-joker-poster-the-dark-knight-heath-ledger-movies-quote-wallpaper-cui\n",
      "https://www.wallpaperflare.com/anime-illustration-minimalism-dark-background-uchiha-madara-wallpaper-uimpe\n",
      "https://www.wallpaperflare.com/restaurant-dark-anime-girls-alone-rain-window-wallpaper-zaijj\n",
      "https://www.wallpaperflare.com/venom-movie-superheroes-logo-hd-4k-5k-8k-black-background-wallpaper-hrbft\n",
      "https://www.wallpaperflare.com/game-application-digital-wallpaper-three-character-standing-in-front-of-lighted-tree-3d-wallpaper-wallpaper-toi\n",
      "https://www.wallpaperflare.com/red-blue-and-orange-multi-color-lion-illustration-multicolored-lion-artwork-wallpaper-wallpaper-qrp\n",
      "https://www.wallpaperflare.com/orange-fish-illustration-minimalism-artwork-simple-threadless-wallpaper-ubb\n",
      "https://www.wallpaperflare.com/one-piece-monkey-d-luffy-kaido-gear-fourth-snakeman-dark-wallpaper-cuvyx\n",
      "https://www.wallpaperflare.com/anime-room-interior-dark-everlasting-summer-arseniy-chebynkin-wallpaper-cusgw\n",
      "https://www.wallpaperflare.com/marvel-black-panther-wallpaper-black-background-minimalism-wallpaper-kgl\n",
      "https://www.wallpaperflare.com/women-dark-hair-purple-eyes-kimono-anime-girls-artwork-wallpaper-cuuah\n",
      "https://www.wallpaperflare.com/anime-manga-anime-girls-fan-art-illustration-sport-ecchi-wallpaper-ycfqh\n",
      "https://www.wallpaperflare.com/game-application-digital-wallpaper-square-enix-nier-nier-automata-wallpaper-pbkdw\n",
      "https://www.wallpaperflare.com/anime-manga-anime-man-illustration-fan-art-dark-background-wallpaper-gozvn\n",
      "https://www.wallpaperflare.com/female-animated-character-wallpaper-horror-blacked-out-eyes-wallpaper-pqlxi\n",
      "https://www.wallpaperflare.com/life-cycle-illustration-productive-life-goes-on-illustration-wallpaper-u\n",
      "https://www.wallpaperflare.com/skull-wallpaper-dishonored-black-white-corvo-monochrome-wallpaper-spze\n",
      "https://www.wallpaperflare.com/anime-anime-girls-original-characters-looking-at-viewer-wallpaper-udvxt\n",
      "https://www.wallpaperflare.com/korarlin-anime-character-black-haired-female-anime-character-wallpaper-hqp\n",
      "https://www.wallpaperflare.com/rinnegan-naruto-anime-minimalism-uchiha-madara-uchiha-obito-wallpaper-yptwn\n",
      "https://www.wallpaperflare.com/black-and-red-eagle-digital-wallpaper-artwork-fantasy-art-dragon-wallpaper-phend\n",
      "https://www.wallpaperflare.com/person-standing-in-front-of-house-with-sakura-tree-outside-wallpaper-pink-leaf-tree-beside-gray-and-brown-building-wallpaper-qqk\n",
      "https://www.wallpaperflare.com/adult-brown-tiger-animals-dark-artwork-animal-themes-one-animal-wallpaper-phvdx\n",
      "https://www.wallpaperflare.com/white-wolf-logo-the-witcher-the-witcher-3-wild-hunt-simple-background-wallpaper-hjd\n",
      "https://www.wallpaperflare.com/anime-manga-anime-girls-fan-art-illustration-minimalism-wallpaper-yclmr\n",
      "https://www.wallpaperflare.com/digital-digital-art-artwork-illustration-drawing-digital-painting-wallpaper-gjjji\n",
      "https://www.wallpaperflare.com/naruto-obito-and-tobi-silhouettes-uchiha-obito-naruto-shippuuden-wallpaper-pbxdw\n",
      "https://www.wallpaperflare.com/digital-digital-art-artwork-illustration-landscape-nature-wallpaper-gjgok\n",
      "https://www.wallpaperflare.com/woman-sitting-on-the-bed-illustration-anime-girls-original-characters-wallpaper-ppzjw\n",
      "https://www.wallpaperflare.com/minimalism-dark-fantasy-art-black-background-simple-background-wallpaper-hels\n",
      "https://www.wallpaperflare.com/laptop-computer-grayscale-photo-notebooks-cat-monochrome-animals-wallpaper-zwx\n",
      "https://www.wallpaperflare.com/anime-anime-girls-fan-art-dark-angel-wings-armor-illustration-wallpaper-udete\n",
      "https://www.wallpaperflare.com/digital-art-fox-landscape-nature-fantasy-art-minimalism-wallpaper-cubgc\n",
      "https://www.wallpaperflare.com/bleach-ichigo-digital-wallpaper-dark-anime-kurosaki-ichigo-wallpaper-prtpq\n",
      "https://www.wallpaperflare.com/castle-landscape-fantasy-art-mountains-nature-dark-artwork-wallpaper-uddrn\n",
      "https://www.wallpaperflare.com/female-anime-character-wallpaper-type-moon-fate-series-saber-alter-wallpaper-cjac\n",
      "https://www.wallpaperflare.com/anime-anime-girls-illustration-manga-fan-art-minimalism-wallpaper-uihfy\n",
      "https://www.wallpaperflare.com/anime-anime-girls-illustration-fan-art-minimalism-monochrome-wallpaper-uihrv\n",
      "https://www.wallpaperflare.com/pixiv-fantasia-anime-girls-white-hair-long-hair-red-eyes-wallpaper-gjpjw\n",
      "https://www.wallpaperflare.com/2560x1440-px-bridge-castle-cathedral-dark-souls-iii-moon-screen-shot-video-games-village-anime-death-note-hd-art-wallpaper-bouqn\n",
      "https://www.wallpaperflare.com/denji-chainsaw-man-red-dark-anime-manga-wallpaper-yuiuw\n",
      "https://www.wallpaperflare.com/blue-purple-and-orange-digital-wallpaper-abstract-3d-digital-art-wallpaper-qhfd\n",
      "https://www.wallpaperflare.com/warrior-fighting-a-dark-wolf-illustration-berserk-demon-cloud-sky-wallpaper-yje\n",
      "https://www.wallpaperflare.com/tsuyu-asui-uraraka-ochako-boku-no-hero-academia-women-dark-hair-wallpaper-znkqq\n",
      "https://www.wallpaperflare.com/anime-manga-illustration-fan-art-minimalism-monochrome-wallpaper-udjuu\n",
      "https://www.wallpaperflare.com/one-piece-monkey-d-luffy-digital-wallpaper-anime-copy-space-wallpaper-hhiqr\n",
      "https://www.wallpaperflare.com/egor-klyuchnyk-digital-art-illustration-artwork-fictional-characters-wallpaper-yppgg\n",
      "https://www.wallpaperflare.com/white-and-black-monkey-wallpaper-minimalism-animals-black-background-wallpaper-amv\n",
      "https://www.wallpaperflare.com/leopard-dark-animal-wild-monochrome-wildlife-black-black-and-white-wallpaper-rxey\n",
      "https://www.wallpaperflare.com/anime-anime-girls-manga-illustration-fan-art-neko-ears-wallpaper-uitur\n",
      "https://www.wallpaperflare.com/lux-animal-lux-league-of-legends-dark-stars-space-cosmic-break-wallpaper-yhhnt\n",
      "https://www.wallpaperflare.com/skeleton-digital-wallpaper-digital-art-artwork-simple-background-wallpaper-pmnlo\n",
      "https://www.wallpaperflare.com/wolf-illustration-nature-fantasy-art-glowing-eyes-dark-animals-wallpaper-hwhxd\n",
      "https://www.wallpaperflare.com/anime-manga-anime-girls-fan-art-illustration-texture-minimalism-wallpaper-ybcwf\n",
      "https://www.wallpaperflare.com/female-anime-character-holding-swords-digital-wallpaper-drawing-wallpaper-bys\n",
      "https://www.wallpaperflare.com/anime-manga-anime-girls-fan-art-illustration-minimalism-wallpaper-ycdpm\n",
      "https://www.wallpaperflare.com/my-neighbor-totoro-wallpaper-anime-studio-ghibli-gray-minimalism-wallpaper-pwwun\n",
      "https://www.wallpaperflare.com/brown-wooden-dock-with-person-wallpaper-dark-alone-loneliness-wallpaper-asm\n",
      "https://www.wallpaperflare.com/brunette-red-eyes-anime-dark-hair-artwork-original-characters-wallpaper-ujfrd\n",
      "https://www.wallpaperflare.com/anime-girls-original-characters-dark-hair-tank-top-short-shorts-wallpaper-gjuno\n",
      "https://www.wallpaperflare.com/blue-whale-animals-shark-digital-art-whale-shark-underwater-wallpaper-pmqjf\n",
      "https://www.wallpaperflare.com/anime-anime-girls-overlord-anime-albedo-overlord-white-background-wallpaper-thixp\n",
      "https://www.wallpaperflare.com/black-dragon-painting-black-and-purple-dragon-digital-wallpaper-wallpaper-qnu\n",
      "https://www.wallpaperflare.com/anime-anime-girls-fan-art-illustration-minimalism-monochrome-wallpaper-uihro\n",
      "https://www.wallpaperflare.com/fareview-logo-mr-robot-fsociety-e-corp-evil-corp-code-rainbows-wallpaper-tiqy\n",
      "https://www.wallpaperflare.com/anime-character-wallpaper-women-glowing-smoke-purple-eyes-wallpaper-psn\n",
      "https://www.wallpaperflare.com/man-smoking-illustration-anime-anime-boys-stars-cowboy-bebop-wallpaper-tboba\n",
      "https://www.wallpaperflare.com/naruto-anime-art-sasuke-itachi-uchiha-anime-guy-anime-boy-wallpaper-trkoz\n",
      "https://www.wallpaperflare.com/woman-with-red-brassire-anime-character-asuka-langley-soryu-wallpaper-puhzm\n",
      "https://www.wallpaperflare.com/apple-logo-minimalism-texture-computers-grey-background-style-wallpaper-qrels\n",
      "https://www.wallpaperflare.com/bear-black-black-and-white-brown-bear-wildlife-photography-wallpaper-cfnst\n",
      "https://www.wallpaperflare.com/blue-owl-illustration-minimalism-digital-art-triangle-black-background-wallpaper-qkcqy\n",
      "https://www.wallpaperflare.com/anime-original-characters-anime-girls-fan-art-illustration-wallpaper-ymvcg\n"
     ]
    }
   ],
   "source": [
    "for li in ul.find_all('li'):\n",
    "    #to avoid ads\n",
    "    if li.a:\n",
    "        print(li.a['href'])"
   ]
  },
  {
   "cell_type": "code",
   "execution_count": 34,
   "id": "79d6f71e",
   "metadata": {},
   "outputs": [
    {
     "name": "stdout",
     "output_type": "stream",
     "text": [
      "https://www.wallpaperflare.com/digital-digital-art-artwork-illustration-minimalism-simple-wallpaper-gjwxk\n",
      "https://www.wallpaperflare.com/digital-digital-art-artwork-illustration-drawing-digital-painting-wallpaper-gjrrx\n",
      "https://www.wallpaperflare.com/digital-digital-art-artwork-illustration-fantasy-art-sun-wallpaper-gjrwl\n",
      "https://www.wallpaperflare.com/digital-digital-art-artwork-illustration-ricodz-blue-purple-wallpaper-gjbgd\n"
     ]
    }
   ],
   "source": [
    "i = 0\n",
    "\n",
    "for li in ul.find_all('li'):\n",
    "    #to avoid ads\n",
    "    if i == 4:\n",
    "        break\n",
    "    if li.a:\n",
    "        print(li.a['href'])\n",
    "        download(li.a['href'])\n",
    "        i += 1"
   ]
  },
  {
   "cell_type": "code",
   "execution_count": null,
   "id": "601e8b57",
   "metadata": {},
   "outputs": [],
   "source": []
  }
 ],
 "metadata": {
  "kernelspec": {
   "display_name": "Python 3 (ipykernel)",
   "language": "python",
   "name": "python3"
  },
  "language_info": {
   "codemirror_mode": {
    "name": "ipython",
    "version": 3
   },
   "file_extension": ".py",
   "mimetype": "text/x-python",
   "name": "python",
   "nbconvert_exporter": "python",
   "pygments_lexer": "ipython3",
   "version": "3.10.7"
  }
 },
 "nbformat": 4,
 "nbformat_minor": 5
}
